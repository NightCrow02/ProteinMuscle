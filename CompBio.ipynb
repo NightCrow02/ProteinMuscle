{
 "cells": [
  {
   "cell_type": "code",
   "execution_count": 2,
   "metadata": {},
   "outputs": [
    {
     "name": "stdout",
     "output_type": "stream",
     "text": [
      "Requirement already satisfied: BioPython in c:\\users\\win10\\appdata\\local\\programs\\pythoncodingpack\\lib\\site-packages (1.81)\n",
      "Requirement already satisfied: numpy in c:\\users\\win10\\appdata\\local\\programs\\pythoncodingpack\\lib\\site-packages (from BioPython) (1.19.1)\n",
      "Note: you may need to restart the kernel to use updated packages.\n"
     ]
    },
    {
     "name": "stderr",
     "output_type": "stream",
     "text": [
      "WARNING: You are using pip version 20.1.1; however, version 23.1.2 is available.\n",
      "You should consider upgrading via the 'c:\\Users\\WIN10\\AppData\\Local\\Programs\\PythonCodingPack\\python.exe -m pip install --upgrade pip' command.\n"
     ]
    },
    {
     "name": "stdout",
     "output_type": "stream",
     "text": [
      "Requirement already satisfied: matplotlib in c:\\users\\win10\\appdata\\local\\programs\\pythoncodingpack\\lib\\site-packages (3.3.1)\n",
      "Requirement already satisfied: pillow>=6.2.0 in c:\\users\\win10\\appdata\\local\\programs\\pythoncodingpack\\lib\\site-packages (from matplotlib) (7.2.0)\n",
      "Requirement already satisfied: kiwisolver>=1.0.1 in c:\\users\\win10\\appdata\\local\\programs\\pythoncodingpack\\lib\\site-packages (from matplotlib) (1.2.0)\n",
      "Requirement already satisfied: numpy>=1.15 in c:\\users\\win10\\appdata\\local\\programs\\pythoncodingpack\\lib\\site-packages (from matplotlib) (1.19.1)\n",
      "Requirement already satisfied: cycler>=0.10 in c:\\users\\win10\\appdata\\local\\programs\\pythoncodingpack\\lib\\site-packages (from matplotlib) (0.10.0)\n",
      "Requirement already satisfied: pyparsing!=2.0.4,!=2.1.2,!=2.1.6,>=2.0.3 in c:\\users\\win10\\appdata\\local\\programs\\pythoncodingpack\\lib\\site-packages (from matplotlib) (2.4.7)\n",
      "Requirement already satisfied: python-dateutil>=2.1 in c:\\users\\win10\\appdata\\local\\programs\\pythoncodingpack\\lib\\site-packages (from matplotlib) (2.8.1)\n",
      "Requirement already satisfied: certifi>=2020.06.20 in c:\\users\\win10\\appdata\\local\\programs\\pythoncodingpack\\lib\\site-packages (from matplotlib) (2020.6.20)\n",
      "Requirement already satisfied: six in c:\\users\\win10\\appdata\\local\\programs\\pythoncodingpack\\lib\\site-packages (from cycler>=0.10->matplotlib) (1.15.0)\n",
      "Note: you may need to restart the kernel to use updated packages.\n"
     ]
    },
    {
     "name": "stderr",
     "output_type": "stream",
     "text": [
      "WARNING: You are using pip version 20.1.1; however, version 23.1.2 is available.\n",
      "You should consider upgrading via the 'c:\\Users\\WIN10\\AppData\\Local\\Programs\\PythonCodingPack\\python.exe -m pip install --upgrade pip' command.\n"
     ]
    }
   ],
   "source": [
    "%pip install BioPython\n",
    "%pip install matplotlib"
   ]
  },
  {
   "cell_type": "code",
   "execution_count": 3,
   "metadata": {},
   "outputs": [],
   "source": [
    "import Bio\n",
    "from Bio import SeqIO\n",
    "from collections import Counter\n",
    "import matplotlib.pyplot as plt"
   ]
  },
  {
   "cell_type": "code",
   "execution_count": 4,
   "metadata": {},
   "outputs": [],
   "source": [
    "# Mendefinisikan path file protein.fasta\n",
    "protein_chicken = \"./fasta_file/chicken.fasta\""
   ]
  },
  {
   "cell_type": "code",
   "execution_count": 5,
   "metadata": {},
   "outputs": [],
   "source": [
    "# Membaca file sekuens protein dalam format FASTA\n",
    "protein_seqs = SeqIO.parse(protein_chicken, \"fasta\")"
   ]
  },
  {
   "cell_type": "code",
   "execution_count": 6,
   "metadata": {},
   "outputs": [
    {
     "name": "stdout",
     "output_type": "stream",
     "text": [
      "Panjang sekuens protein: 175\n"
     ]
    }
   ],
   "source": [
    "# Meloopi setiap rekaman sekuens protein\n",
    "for seq_record in protein_seqs:\n",
    "    # Mengakses sekuens protein\n",
    "    seq = seq_record.seq\n",
    "\n",
    "    # Menghitung panjang sekuens protein\n",
    "    seq_length = len(seq)\n",
    "    print(\"Panjang sekuens protein:\", seq_length)\n",
    "\n",
    "    # Menghitung jumlah dan persentase setiap asam amino dalam sekuens protein\n",
    "    amino_count = Counter(seq)\n",
    "    total_count = sum(amino_count.values())\n",
    "    amino_percentages = {aa: (count / total_count) * 100 for aa, count in amino_count.items()}"
   ]
  },
  {
   "cell_type": "code",
   "execution_count": 7,
   "metadata": {},
   "outputs": [
    {
     "name": "stdout",
     "output_type": "stream",
     "text": [
      "Asam Amino: L Persentase: 16.00 %\n",
      "Asam Amino: I Persentase: 8.57 %\n",
      "Asam Amino: V Persentase: 6.86 %\n"
     ]
    }
   ],
   "source": [
    "# Mencetak persentase asam amino\n",
    "total = 0\n",
    "for aa, percentage in amino_percentages.items():\n",
    "    if aa == 'L' or aa == 'I' or aa == 'V':\n",
    "        persen = \"{:.2f}\".format(percentage)\n",
    "        print(\"Asam Amino:\", aa, \"Persentase:\", persen , \"%\")\n",
    "        #key = x\n",
    "        #value = y"
   ]
  },
  {
   "cell_type": "code",
   "execution_count": 9,
   "metadata": {},
   "outputs": [
    {
     "ename": "NameError",
     "evalue": "name 'y' is not defined",
     "output_type": "error",
     "traceback": [
      "\u001b[1;31m---------------------------------------------------------------------------\u001b[0m",
      "\u001b[1;31mNameError\u001b[0m                                 Traceback (most recent call last)",
      "\u001b[1;32m<ipython-input-9-3ffc7dd9d8e2>\u001b[0m in \u001b[0;36m<module>\u001b[1;34m\u001b[0m\n\u001b[0;32m      3\u001b[0m \u001b[1;33m\u001b[0m\u001b[0m\n\u001b[0;32m      4\u001b[0m \u001b[1;31m# Memilih batang yang akan ditampilkan berdasarkan indeks\u001b[0m\u001b[1;33m\u001b[0m\u001b[1;33m\u001b[0m\u001b[1;33m\u001b[0m\u001b[0m\n\u001b[1;32m----> 5\u001b[1;33m \u001b[0mbatang_terpilih\u001b[0m \u001b[1;33m=\u001b[0m \u001b[1;33m[\u001b[0m\u001b[0my\u001b[0m\u001b[1;33m[\u001b[0m\u001b[0mi\u001b[0m\u001b[1;33m]\u001b[0m \u001b[1;32mfor\u001b[0m \u001b[0mi\u001b[0m \u001b[1;32min\u001b[0m \u001b[0mindeks_batang\u001b[0m\u001b[1;33m]\u001b[0m\u001b[1;33m\u001b[0m\u001b[1;33m\u001b[0m\u001b[0m\n\u001b[0m\u001b[0;32m      6\u001b[0m \u001b[1;33m\u001b[0m\u001b[0m\n\u001b[0;32m      7\u001b[0m \u001b[1;31m# Menandai batang terpilih dengan warna yang berbeda\u001b[0m\u001b[1;33m\u001b[0m\u001b[1;33m\u001b[0m\u001b[1;33m\u001b[0m\u001b[0m\n",
      "\u001b[1;32m<ipython-input-9-3ffc7dd9d8e2>\u001b[0m in \u001b[0;36m<listcomp>\u001b[1;34m(.0)\u001b[0m\n\u001b[0;32m      3\u001b[0m \u001b[1;33m\u001b[0m\u001b[0m\n\u001b[0;32m      4\u001b[0m \u001b[1;31m# Memilih batang yang akan ditampilkan berdasarkan indeks\u001b[0m\u001b[1;33m\u001b[0m\u001b[1;33m\u001b[0m\u001b[1;33m\u001b[0m\u001b[0m\n\u001b[1;32m----> 5\u001b[1;33m \u001b[0mbatang_terpilih\u001b[0m \u001b[1;33m=\u001b[0m \u001b[1;33m[\u001b[0m\u001b[0my\u001b[0m\u001b[1;33m[\u001b[0m\u001b[0mi\u001b[0m\u001b[1;33m]\u001b[0m \u001b[1;32mfor\u001b[0m \u001b[0mi\u001b[0m \u001b[1;32min\u001b[0m \u001b[0mindeks_batang\u001b[0m\u001b[1;33m]\u001b[0m\u001b[1;33m\u001b[0m\u001b[1;33m\u001b[0m\u001b[0m\n\u001b[0m\u001b[0;32m      6\u001b[0m \u001b[1;33m\u001b[0m\u001b[0m\n\u001b[0;32m      7\u001b[0m \u001b[1;31m# Menandai batang terpilih dengan warna yang berbeda\u001b[0m\u001b[1;33m\u001b[0m\u001b[1;33m\u001b[0m\u001b[1;33m\u001b[0m\u001b[0m\n",
      "\u001b[1;31mNameError\u001b[0m: name 'y' is not defined"
     ]
    }
   ],
   "source": [
    "plt.bar(amino_percentages.keys(), amino_percentages.values())\n",
    "plt.xlabel(\"Asam Amino\")\n",
    "plt.ylabel(\"Persentase\")\n",
    "plt.title(\"Komposisi Asam Amino\")\n",
    "plt.show()"
   ]
  }
 ],
 "metadata": {
  "kernelspec": {
   "display_name": "Python 3",
   "language": "python",
   "name": "python3"
  },
  "language_info": {
   "codemirror_mode": {
    "name": "ipython",
    "version": 3
   },
   "file_extension": ".py",
   "mimetype": "text/x-python",
   "name": "python",
   "nbconvert_exporter": "python",
   "pygments_lexer": "ipython3",
   "version": "3.8.5"
  },
  "orig_nbformat": 4,
  "vscode": {
   "interpreter": {
    "hash": "79bb8750401a2d322f5ec0765bd23ec8c936c631a9d35728304eb6ddefa8d0e8"
   }
  }
 },
 "nbformat": 4,
 "nbformat_minor": 2
}
