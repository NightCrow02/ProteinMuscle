{
 "cells": [
  {
   "cell_type": "code",
   "execution_count": 27,
   "metadata": {},
   "outputs": [
    {
     "name": "stdout",
     "output_type": "stream",
     "text": [
      "Requirement already satisfied: BioPython in c:\\users\\h4uh4\\appdata\\local\\packages\\pythonsoftwarefoundation.python.3.9_qbz5n2kfra8p0\\localcache\\local-packages\\python39\\site-packages (1.81)\n",
      "Requirement already satisfied: numpy in c:\\users\\h4uh4\\appdata\\local\\packages\\pythonsoftwarefoundation.python.3.9_qbz5n2kfra8p0\\localcache\\local-packages\\python39\\site-packages (from BioPython) (1.24.3)\n",
      "Note: you may need to restart the kernel to use updated packages.\n"
     ]
    },
    {
     "name": "stderr",
     "output_type": "stream",
     "text": [
      "WARNING: You are using pip version 22.0.4; however, version 23.1.2 is available.\n",
      "You should consider upgrading via the 'C:\\Users\\h4uh4\\AppData\\Local\\Microsoft\\WindowsApps\\PythonSoftwareFoundation.Python.3.9_qbz5n2kfra8p0\\python.exe -m pip install --upgrade pip' command.\n"
     ]
    },
    {
     "name": "stdout",
     "output_type": "stream",
     "text": [
      "Requirement already satisfied: matplotlib in c:\\users\\h4uh4\\appdata\\local\\packages\\pythonsoftwarefoundation.python.3.9_qbz5n2kfra8p0\\localcache\\local-packages\\python39\\site-packages (3.7.1)\n",
      "Requirement already satisfied: pyparsing>=2.3.1 in c:\\users\\h4uh4\\appdata\\local\\packages\\pythonsoftwarefoundation.python.3.9_qbz5n2kfra8p0\\localcache\\local-packages\\python39\\site-packages (from matplotlib) (3.0.9)\n",
      "Requirement already satisfied: contourpy>=1.0.1 in c:\\users\\h4uh4\\appdata\\local\\packages\\pythonsoftwarefoundation.python.3.9_qbz5n2kfra8p0\\localcache\\local-packages\\python39\\site-packages (from matplotlib) (1.0.7)\n",
      "Requirement already satisfied: python-dateutil>=2.7 in c:\\users\\h4uh4\\appdata\\local\\packages\\pythonsoftwarefoundation.python.3.9_qbz5n2kfra8p0\\localcache\\local-packages\\python39\\site-packages (from matplotlib) (2.8.2)\n",
      "Requirement already satisfied: packaging>=20.0 in c:\\users\\h4uh4\\appdata\\local\\packages\\pythonsoftwarefoundation.python.3.9_qbz5n2kfra8p0\\localcache\\local-packages\\python39\\site-packages (from matplotlib) (23.1)\n",
      "Requirement already satisfied: cycler>=0.10 in c:\\users\\h4uh4\\appdata\\local\\packages\\pythonsoftwarefoundation.python.3.9_qbz5n2kfra8p0\\localcache\\local-packages\\python39\\site-packages (from matplotlib) (0.11.0)\n",
      "Requirement already satisfied: kiwisolver>=1.0.1 in c:\\users\\h4uh4\\appdata\\local\\packages\\pythonsoftwarefoundation.python.3.9_qbz5n2kfra8p0\\localcache\\local-packages\\python39\\site-packages (from matplotlib) (1.4.4)\n",
      "Requirement already satisfied: pillow>=6.2.0 in c:\\users\\h4uh4\\appdata\\local\\packages\\pythonsoftwarefoundation.python.3.9_qbz5n2kfra8p0\\localcache\\local-packages\\python39\\site-packages (from matplotlib) (9.5.0)\n",
      "Requirement already satisfied: importlib-resources>=3.2.0 in c:\\users\\h4uh4\\appdata\\local\\packages\\pythonsoftwarefoundation.python.3.9_qbz5n2kfra8p0\\localcache\\local-packages\\python39\\site-packages (from matplotlib) (5.12.0)\n",
      "Requirement already satisfied: numpy>=1.20 in c:\\users\\h4uh4\\appdata\\local\\packages\\pythonsoftwarefoundation.python.3.9_qbz5n2kfra8p0\\localcache\\local-packages\\python39\\site-packages (from matplotlib) (1.24.3)\n",
      "Requirement already satisfied: fonttools>=4.22.0 in c:\\users\\h4uh4\\appdata\\local\\packages\\pythonsoftwarefoundation.python.3.9_qbz5n2kfra8p0\\localcache\\local-packages\\python39\\site-packages (from matplotlib) (4.39.4)\n",
      "Requirement already satisfied: zipp>=3.1.0 in c:\\users\\h4uh4\\appdata\\local\\packages\\pythonsoftwarefoundation.python.3.9_qbz5n2kfra8p0\\localcache\\local-packages\\python39\\site-packages (from importlib-resources>=3.2.0->matplotlib) (3.15.0)\n",
      "Requirement already satisfied: six>=1.5 in c:\\users\\h4uh4\\appdata\\local\\packages\\pythonsoftwarefoundation.python.3.9_qbz5n2kfra8p0\\localcache\\local-packages\\python39\\site-packages (from python-dateutil>=2.7->matplotlib) (1.16.0)\n",
      "Note: you may need to restart the kernel to use updated packages.\n"
     ]
    },
    {
     "name": "stderr",
     "output_type": "stream",
     "text": [
      "WARNING: You are using pip version 22.0.4; however, version 23.1.2 is available.\n",
      "You should consider upgrading via the 'C:\\Users\\h4uh4\\AppData\\Local\\Microsoft\\WindowsApps\\PythonSoftwareFoundation.Python.3.9_qbz5n2kfra8p0\\python.exe -m pip install --upgrade pip' command.\n"
     ]
    }
   ],
   "source": [
    "%pip install BioPython\n",
    "%pip install matplotlib"
   ]
  },
  {
   "cell_type": "code",
   "execution_count": 28,
   "metadata": {},
   "outputs": [],
   "source": [
    "import Bio\n",
    "from Bio import SeqIO\n",
    "from collections import Counter\n",
    "import matplotlib.pyplot as plt"
   ]
  },
  {
   "cell_type": "code",
   "execution_count": 29,
   "metadata": {},
   "outputs": [],
   "source": [
    "# Mendefinisikan path file protein.fasta\n",
    "protein_chicken = \"./fasta_file/chicken.fasta\"\n",
    "protein_soya = \"./fasta_file/soya.fasta\"\n",
    "protein_tofu = \"./fasta_file/tofu.fasta\""
   ]
  },
  {
   "cell_type": "code",
   "execution_count": 30,
   "metadata": {},
   "outputs": [],
   "source": [
    "# Membaca file sekuens protein dalam format FASTA\n",
    "chicken_seqs = SeqIO.parse(protein_chicken, \"fasta\")\n",
    "soya_seqs = SeqIO.parse(protein_soya, \"fasta\")\n",
    "tofu_seqs = SeqIO.parse(protein_tofu, \"fasta\")"
   ]
  },
  {
   "cell_type": "code",
   "execution_count": 31,
   "metadata": {},
   "outputs": [
    {
     "name": "stdout",
     "output_type": "stream",
     "text": [
      "Panjang sekuens protein ayam: 175\n",
      "Panjang sekuens protein kacang kedelai: 527\n",
      "Panjang sekuens protein tahu: 433\n"
     ]
    }
   ],
   "source": [
    "# Melooping setiap rekaman sekuens protein ayam\n",
    "for seq_record in chicken_seqs:\n",
    "    # Mengakses sekuens protein\n",
    "    seq = seq_record.seq\n",
    "\n",
    "    # Menghitung panjang sekuens protein\n",
    "    seq_length = len(seq)\n",
    "    print(\"Panjang sekuens protein ayam:\", seq_length)\n",
    "\n",
    "    # Menghitung jumlah dan persentase setiap asam amino dalam sekuens protein\n",
    "    amino_count = Counter(seq)\n",
    "    total_count = sum(amino_count.values())\n",
    "    amino_percentages_chicken = {aa: (count / total_count) * 100 for aa, count in amino_count.items()}\\\n",
    "    \n",
    "\n",
    "# Melooping setiap rekaman sekuens protein kedelai\n",
    "for seq_record in soya_seqs:\n",
    "    # Mengakses sekuens protein\n",
    "    seq = seq_record.seq\n",
    "\n",
    "    # Menghitung panjang sekuens protein\n",
    "    seq_length = len(seq)\n",
    "    print(\"Panjang sekuens protein kacang kedelai:\", seq_length)\n",
    "\n",
    "    # Menghitung jumlah dan persentase setiap asam amino dalam sekuens protein\n",
    "    amino_count = Counter(seq)\n",
    "    total_count = sum(amino_count.values())\n",
    "    amino_percentages_soya = {aa: (count / total_count) * 100 for aa, count in amino_count.items()}\n",
    "\n",
    "# Melooping setiap rekaman sekuens protein tahu\n",
    "for seq_record in tofu_seqs :\n",
    "    # Mengakses sekuens protein\n",
    "    seq = seq_record.seq\n",
    "\n",
    "    # Menghitung panjang sekuens protein\n",
    "    seq_length = len(seq)\n",
    "    print(\"Panjang sekuens protein tahu:\", seq_length)\n",
    "\n",
    "    # Menghitung jumlah dan persentase setiap asam amino dalam sekuens protein\n",
    "    amino_count = Counter(seq)\n",
    "    total_count = sum(amino_count.values())\n",
    "    amino_percentages_tofu = {aa: (count / total_count) * 100 for aa, count in amino_count.items()}"
   ]
  },
  {
   "cell_type": "code",
   "execution_count": 32,
   "metadata": {},
   "outputs": [
    {
     "name": "stdout",
     "output_type": "stream",
     "text": [
      "Berikut merupakan Asam Amino : Leusin (leucine), Isoleusin (isoleucine), dan Valin (valine) dari Ayam: \n",
      "Asam Amino: L Persentase: 16.00 %\n",
      "Asam Amino: I Persentase: 8.57 %\n",
      "Asam Amino: V Persentase: 6.86 %\n",
      "Berikut merupakan Asam Amino : Leusin (leucine), Isoleusin (isoleucine), dan Valin (valine) dari Tahu: \n",
      "Asam Amino: L Persentase: 4.55 %\n",
      "Asam Amino: I Persentase: 4.55 %\n",
      "Asam Amino: V Persentase: 4.55 %\n",
      "Berikut merupakan Asam Amino : Leusin (leucine), Isoleusin (isoleucine), dan Valin (valine) dari Tahu: \n",
      "Asam Amino: F Persentase: 9.01 %\n",
      "Asam Amino: F Persentase: 4.85 %\n",
      "Asam Amino: F Persentase: 6.24 %\n"
     ]
    }
   ],
   "source": [
    "# Mencetak persentase asam amino ayam\n",
    "print(\"Berikut merupakan Asam Amino : Leusin (leucine), Isoleusin (isoleucine), dan Valin (valine) dari Ayam: \")\n",
    "for aa1, percentage in amino_percentages_chicken.items():\n",
    "    if aa1 == 'L' or aa1 == 'I' or aa1 == 'V':\n",
    "        persen_chicken = \"{:.2f}\".format(percentage)\n",
    "        print(\"Asam Amino:\", aa1, \"Persentase:\", persen_chicken , \"%\")\n",
    "\n",
    "# Mencetak persentase asam amino ayam\n",
    "print(\"Berikut merupakan Asam Amino : Leusin (leucine), Isoleusin (isoleucine), dan Valin (valine) dari Tahu: \")\n",
    "for aa2, percentage in amino_percentages_tofu.items():\n",
    "    if aa2 == 'L' or aa2 == 'I' or aa2 == 'V':\n",
    "        persen_soya = \"{:.2f}\".format(percentage)\n",
    "        print(\"Asam Amino:\", aa2, \"Persentase:\", persen_soya , \"%\")\n",
    "\n",
    "# Mencetak persentase asam amino ayam\n",
    "print(\"Berikut merupakan Asam Amino : Leusin (leucine), Isoleusin (isoleucine), dan Valin (valine) dari Tahu: \")\n",
    "for aa3, percentage in amino_percentages_tofu.items():\n",
    "    if aa3 == 'L' or aa3 == 'I' or aa3 == 'V':\n",
    "        persen_tofu = \"{:.2f}\".format(percentage)\n",
    "        print(\"Asam Amino:\", aa2, \"Persentase:\", persen_tofu , \"%\")"
   ]
  },
  {
   "cell_type": "code",
   "execution_count": 34,
   "metadata": {},
   "outputs": [
    {
     "ename": "NameError",
     "evalue": "name 'amino_percentages' is not defined",
     "output_type": "error",
     "traceback": [
      "\u001b[1;31m---------------------------------------------------------------------------\u001b[0m",
      "\u001b[1;31mNameError\u001b[0m                                 Traceback (most recent call last)",
      "Cell \u001b[1;32mIn[34], line 2\u001b[0m\n\u001b[0;32m      1\u001b[0m \u001b[39m# Menampilkan grafik batang komposisi asam amino\u001b[39;00m\n\u001b[1;32m----> 2\u001b[0m plt\u001b[39m.\u001b[39mbar(amino_percentages\u001b[39m.\u001b[39mkeys(), amino_percentages\u001b[39m.\u001b[39mvalues())\n\u001b[0;32m      3\u001b[0m plt\u001b[39m.\u001b[39mxlabel(\u001b[39m\"\u001b[39m\u001b[39mAsam Amino\u001b[39m\u001b[39m\"\u001b[39m)\n\u001b[0;32m      4\u001b[0m plt\u001b[39m.\u001b[39mylabel(\u001b[39m\"\u001b[39m\u001b[39mPersentase\u001b[39m\u001b[39m\"\u001b[39m)\n",
      "\u001b[1;31mNameError\u001b[0m: name 'amino_percentages' is not defined"
     ]
    }
   ],
   "source": [
    "# Menampilkan grafik batang komposisi asam amino\n",
    "plt.bar(amino_percentages.keys(), amino_percentages.values())\n",
    "plt.xlabel(\"Asam Amino\")\n",
    "plt.ylabel(\"Persentase\")\n",
    "plt.title(\"Komposisi Asam Amino\")\n",
    "plt.show()"
   ]
  }
 ],
 "metadata": {
  "kernelspec": {
   "display_name": "Python 3",
   "language": "python",
   "name": "python3"
  },
  "language_info": {
   "codemirror_mode": {
    "name": "ipython",
    "version": 3
   },
   "file_extension": ".py",
   "mimetype": "text/x-python",
   "name": "python",
   "nbconvert_exporter": "python",
   "pygments_lexer": "ipython3",
   "version": "3.9.13"
  },
  "orig_nbformat": 4,
  "vscode": {
   "interpreter": {
    "hash": "79bb8750401a2d322f5ec0765bd23ec8c936c631a9d35728304eb6ddefa8d0e8"
   }
  }
 },
 "nbformat": 4,
 "nbformat_minor": 2
}
